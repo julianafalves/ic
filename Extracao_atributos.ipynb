{
  "nbformat": 4,
  "nbformat_minor": 0,
  "metadata": {
    "colab": {
      "name": "ThreadComPastas.ipynb",
      "provenance": [],
      "collapsed_sections": [],
      "mount_file_id": "1UJ2BxRO4gqhlWVptdspROVJaIzjmKH4g",
      "authorship_tag": "ABX9TyOqldZyw55ndl0cN0tZoh0T",
      "include_colab_link": true
    },
    "kernelspec": {
      "name": "python3",
      "display_name": "Python 3"
    }
  },
  "cells": [
    {
      "cell_type": "markdown",
      "metadata": {
        "id": "view-in-github",
        "colab_type": "text"
      },
      "source": [
        "<a href=\"https://colab.research.google.com/github/julianafalves/ic/blob/master/Extracao_atributos.ipynb\" target=\"_parent\"><img src=\"https://colab.research.google.com/assets/colab-badge.svg\" alt=\"Open In Colab\"/></a>"
      ]
    },
    {
      "cell_type": "markdown",
      "metadata": {
        "id": "_XRGtv7rNMWK"
      },
      "source": [
        "# Dados Principais"
      ]
    },
    {
      "cell_type": "code",
      "metadata": {
        "id": "WGyS48CCAqD0",
        "outputId": "da5c17c1-e898-444a-d30e-1df09ae23874",
        "colab": {
          "base_uri": "https://localhost:8080/",
          "height": 419
        }
      },
      "source": [
        "import pandas as pd\n",
        "import threading \n",
        "\n",
        "diag = pd.read_csv('/content/drive/My Drive/ic/ADNI1_Annual_2_Yr_1.5T_8_02_2019.csv',usecols=[\"Subject\",\"Group\"]) #diagnostico dos individuos   \n",
        "diag_ids = diag['Subject'].values.tolist() #identidades relacionados ao seu diagnostico\n",
        "diag_results = diag['Group'].values.tolist() #diagnosticos \n",
        "\n",
        "df1 = pd.read_csv('/content/drive/My Drive/ic/Dados Descompactados adni/adni_gwas_v2/adni_gwas_v2_set01/002_S_0295.csv')\n",
        "#df2= pd.read_csv('/content/drive/My Drive/ic/Dados Descompactados adni/adni_gwas_v2/adni_gwas_v2_set1/002_S_0413.csv')\n",
        "\n",
        "df1 =df1[df1['SNP Name'].str.startswith('rs')]\n",
        "#lista = df1_filtrado['SNP Name'].values.tolist()\n",
        "\n",
        "#roi = diag.drop_duplicates('Subject',keep='first')\n",
        "df1[['SNP Name', 'Allele1 - AB','Allele2 - AB']]"
      ],
      "execution_count": null,
      "outputs": [
        {
          "output_type": "execute_result",
          "data": {
            "text/html": [
              "<div>\n",
              "<style scoped>\n",
              "    .dataframe tbody tr th:only-of-type {\n",
              "        vertical-align: middle;\n",
              "    }\n",
              "\n",
              "    .dataframe tbody tr th {\n",
              "        vertical-align: top;\n",
              "    }\n",
              "\n",
              "    .dataframe thead th {\n",
              "        text-align: right;\n",
              "    }\n",
              "</style>\n",
              "<table border=\"1\" class=\"dataframe\">\n",
              "  <thead>\n",
              "    <tr style=\"text-align: right;\">\n",
              "      <th></th>\n",
              "      <th>SNP Name</th>\n",
              "      <th>Allele1 - AB</th>\n",
              "      <th>Allele2 - AB</th>\n",
              "    </tr>\n",
              "  </thead>\n",
              "  <tbody>\n",
              "    <tr>\n",
              "      <th>22080</th>\n",
              "      <td>rs1000000</td>\n",
              "      <td>B</td>\n",
              "      <td>B</td>\n",
              "    </tr>\n",
              "    <tr>\n",
              "      <th>22081</th>\n",
              "      <td>rs10000010</td>\n",
              "      <td>A</td>\n",
              "      <td>B</td>\n",
              "    </tr>\n",
              "    <tr>\n",
              "      <th>22082</th>\n",
              "      <td>rs10000023</td>\n",
              "      <td>A</td>\n",
              "      <td>B</td>\n",
              "    </tr>\n",
              "    <tr>\n",
              "      <th>22083</th>\n",
              "      <td>rs10000030</td>\n",
              "      <td>B</td>\n",
              "      <td>B</td>\n",
              "    </tr>\n",
              "    <tr>\n",
              "      <th>22084</th>\n",
              "      <td>rs10000041</td>\n",
              "      <td>A</td>\n",
              "      <td>A</td>\n",
              "    </tr>\n",
              "    <tr>\n",
              "      <th>...</th>\n",
              "      <td>...</td>\n",
              "      <td>...</td>\n",
              "      <td>...</td>\n",
              "    </tr>\n",
              "    <tr>\n",
              "      <th>620896</th>\n",
              "      <td>rs9999944</td>\n",
              "      <td>A</td>\n",
              "      <td>B</td>\n",
              "    </tr>\n",
              "    <tr>\n",
              "      <th>620897</th>\n",
              "      <td>rs999995</td>\n",
              "      <td>B</td>\n",
              "      <td>B</td>\n",
              "    </tr>\n",
              "    <tr>\n",
              "      <th>620898</th>\n",
              "      <td>rs9999963</td>\n",
              "      <td>A</td>\n",
              "      <td>A</td>\n",
              "    </tr>\n",
              "    <tr>\n",
              "      <th>620899</th>\n",
              "      <td>rs9999966</td>\n",
              "      <td>B</td>\n",
              "      <td>B</td>\n",
              "    </tr>\n",
              "    <tr>\n",
              "      <th>620900</th>\n",
              "      <td>rs9999979</td>\n",
              "      <td>A</td>\n",
              "      <td>B</td>\n",
              "    </tr>\n",
              "  </tbody>\n",
              "</table>\n",
              "<p>598821 rows × 3 columns</p>\n",
              "</div>"
            ],
            "text/plain": [
              "          SNP Name Allele1 - AB Allele2 - AB\n",
              "22080    rs1000000            B            B\n",
              "22081   rs10000010            A            B\n",
              "22082   rs10000023            A            B\n",
              "22083   rs10000030            B            B\n",
              "22084   rs10000041            A            A\n",
              "...            ...          ...          ...\n",
              "620896   rs9999944            A            B\n",
              "620897    rs999995            B            B\n",
              "620898   rs9999963            A            A\n",
              "620899   rs9999966            B            B\n",
              "620900   rs9999979            A            B\n",
              "\n",
              "[598821 rows x 3 columns]"
            ]
          },
          "metadata": {
            "tags": []
          },
          "execution_count": 12
        }
      ]
    },
    {
      "cell_type": "code",
      "metadata": {
        "id": "KNWc79NxOlpr",
        "outputId": "ee0d38e0-4ccd-4053-d51f-feeefeaada58",
        "colab": {
          "base_uri": "https://localhost:8080/",
          "height": 204
        }
      },
      "source": [
        "import os \n",
        "folders = os.listdir('/content/drive/My Drive/ic/Dados Descompactados adni/adni_gwas_v2')\n",
        "folders.sort()\n",
        "folders"
      ],
      "execution_count": null,
      "outputs": [
        {
          "output_type": "execute_result",
          "data": {
            "text/plain": [
              "['adni_gwas_v2_set01',\n",
              " 'adni_gwas_v2_set02',\n",
              " 'adni_gwas_v2_set03',\n",
              " 'adni_gwas_v2_set04',\n",
              " 'adni_gwas_v2_set05',\n",
              " 'adni_gwas_v2_set06',\n",
              " 'adni_gwas_v2_set07',\n",
              " 'adni_gwas_v2_set08',\n",
              " 'adni_gwas_v2_set09',\n",
              " 'adni_gwas_v2_set10',\n",
              " 'adni_gwas_v2_set11']"
            ]
          },
          "metadata": {
            "tags": []
          },
          "execution_count": 13
        }
      ]
    },
    {
      "cell_type": "code",
      "metadata": {
        "id": "un2RdO7cN9aA"
      },
      "source": [
        "genes = [\"APOE\",\"BIN1\",\"CLU\",\"ABCA7\",\"CR1\",\"PICALM\",\"MS4A6A\",\"CD33\",\"MS4A4E\",\"CD2AP\"] \n"
      ],
      "execution_count": null,
      "outputs": []
    },
    {
      "cell_type": "markdown",
      "metadata": {
        "id": "XbHvWviGKnGz"
      },
      "source": [
        "# Funções que vão ser usadas em Thread\n",
        "\n",
        "\n"
      ]
    },
    {
      "cell_type": "code",
      "metadata": {
        "id": "Gz4W7p5wK3iK"
      },
      "source": [
        "##\n",
        "def Filtragem(arg):\n",
        "  arg =arg[arg['SNP Name'].str.startswith('rs')]\n",
        "  return arg"
      ],
      "execution_count": null,
      "outputs": []
    },
    {
      "cell_type": "code",
      "metadata": {
        "id": "7sTUD0RaNpl-"
      },
      "source": [
        "##\n",
        "def Dicionario(arq):\n",
        "  lista =arq['SNP Name'].values.tolist()\n",
        "  print(len(lista))"
      ],
      "execution_count": null,
      "outputs": []
    },
    {
      "cell_type": "code",
      "metadata": {
        "id": "e19HI1uG5Kkp",
        "outputId": "2bb9267b-2e17-42df-bf8a-4485fe6f7cab",
        "colab": {
          "base_uri": "https://localhost:8080/",
          "height": 419
        }
      },
      "source": [
        "xlsx=pd.read_csv('/content/drive/My Drive/ic/NomesSnpsEAlelos.csv') #leitura do com os snps e seus respectivos genes\n",
        "xlsx = xlsx.transpose()\n",
        "xlsx"
      ],
      "execution_count": null,
      "outputs": [
        {
          "output_type": "execute_result",
          "data": {
            "text/html": [
              "<div>\n",
              "<style scoped>\n",
              "    .dataframe tbody tr th:only-of-type {\n",
              "        vertical-align: middle;\n",
              "    }\n",
              "\n",
              "    .dataframe tbody tr th {\n",
              "        vertical-align: top;\n",
              "    }\n",
              "\n",
              "    .dataframe thead th {\n",
              "        text-align: right;\n",
              "    }\n",
              "</style>\n",
              "<table border=\"1\" class=\"dataframe\">\n",
              "  <thead>\n",
              "    <tr style=\"text-align: right;\">\n",
              "      <th></th>\n",
              "      <th>0</th>\n",
              "      <th>1</th>\n",
              "    </tr>\n",
              "  </thead>\n",
              "  <tbody>\n",
              "    <tr>\n",
              "      <th>Unnamed: 0</th>\n",
              "      <td>Name</td>\n",
              "      <td>Alleles</td>\n",
              "    </tr>\n",
              "    <tr>\n",
              "      <th>0</th>\n",
              "      <td>rs7412</td>\n",
              "      <td>SNV:C&gt;T\\n</td>\n",
              "    </tr>\n",
              "    <tr>\n",
              "      <th>1</th>\n",
              "      <td>rs405509</td>\n",
              "      <td>SNV:T&gt;G\\n</td>\n",
              "    </tr>\n",
              "    <tr>\n",
              "      <th>2</th>\n",
              "      <td>rs429358</td>\n",
              "      <td>SNV:T&gt;C\\n</td>\n",
              "    </tr>\n",
              "    <tr>\n",
              "      <th>3</th>\n",
              "      <td>rs769452</td>\n",
              "      <td>SNV:T&gt;C\\n</td>\n",
              "    </tr>\n",
              "    <tr>\n",
              "      <th>...</th>\n",
              "      <td>...</td>\n",
              "      <td>...</td>\n",
              "    </tr>\n",
              "    <tr>\n",
              "      <th>147312</th>\n",
              "      <td>rs796829949</td>\n",
              "      <td>DELINS:ATTTA&gt;-,ATTTAATTTA\\n</td>\n",
              "    </tr>\n",
              "    <tr>\n",
              "      <th>147313</th>\n",
              "      <td>rs1416914868</td>\n",
              "      <td>DELINS:AATT&gt;-,AATTAATT,AATTAATTAATT,AATTAATTAA...</td>\n",
              "    </tr>\n",
              "    <tr>\n",
              "      <th>147314</th>\n",
              "      <td>rs1400255377</td>\n",
              "      <td>DELINS:TT&gt;-,TTT\\n</td>\n",
              "    </tr>\n",
              "    <tr>\n",
              "      <th>147315</th>\n",
              "      <td>rs1491287923</td>\n",
              "      <td>DELINS:AT&gt;-,ATAT,ATATAT,ATATATAT,ATATATATATAT,...</td>\n",
              "    </tr>\n",
              "    <tr>\n",
              "      <th>147316</th>\n",
              "      <td>rs869285234</td>\n",
              "      <td>DELINS:G&gt;ATATATATATATATATAT,ATATATATATATATATAT...</td>\n",
              "    </tr>\n",
              "  </tbody>\n",
              "</table>\n",
              "<p>147318 rows × 2 columns</p>\n",
              "</div>"
            ],
            "text/plain": [
              "                       0                                                  1\n",
              "Unnamed: 0          Name                                            Alleles\n",
              "0                 rs7412                                          SNV:C>T\\n\n",
              "1               rs405509                                          SNV:T>G\\n\n",
              "2               rs429358                                          SNV:T>C\\n\n",
              "3               rs769452                                          SNV:T>C\\n\n",
              "...                  ...                                                ...\n",
              "147312       rs796829949                        DELINS:ATTTA>-,ATTTAATTTA\\n\n",
              "147313      rs1416914868  DELINS:AATT>-,AATTAATT,AATTAATTAATT,AATTAATTAA...\n",
              "147314      rs1400255377                                  DELINS:TT>-,TTT\\n\n",
              "147315      rs1491287923  DELINS:AT>-,ATAT,ATATAT,ATATATAT,ATATATATATAT,...\n",
              "147316       rs869285234  DELINS:G>ATATATATATATATATAT,ATATATATATATATATAT...\n",
              "\n",
              "[147318 rows x 2 columns]"
            ]
          },
          "metadata": {
            "tags": []
          },
          "execution_count": 17
        }
      ]
    },
    {
      "cell_type": "code",
      "metadata": {
        "id": "BdGMnmCX3f-y"
      },
      "source": [
        "def LeituraArquivos(folders):\n",
        "  result = pd.DataFrame()\n",
        "  for folder in folders:\n",
        "    #file = list()\n",
        "    file = os.listdir(f'/content/drive/My Drive/ic/Dados Descompactados adni/adni_gwas_v2/{folder}') #procura mais profundamente todos os .csv em todas as pastas indicadas\n",
        "    file.sort()\n",
        "    for id in file: #pego cada um dos cerca de 200 arquivos\n",
        "        csv = pd.read_csv(f'/content/drive/My Drive/ic/Dados Descompactados adni//adni_gwas_v2/{folder}/{id}',usecols=[\"SNP Name\",\"Allele1 - AB\",\"Allele2 - AB\"]) \n",
        "        csv = Filtragem(csv)\n",
        "        #print(csv)\n",
        "\n",
        "        meu_indexador = csv[\"SNP Name\"].isin(xlsx[0])\n",
        "       \n",
        "        resultado_sem_comparar = csv[meu_indexador].transpose()\n",
        "        resultado_sem_comparar.columns = range(resultado_sem_comparar.shape[1])\n",
        "\n",
        "        result = pd.concat([result,compare(resultado_sem_comparar,id)])\n",
        "        #print(result)´\n",
        "  print('cabou')\n",
        "  return pd.get_dummies(result, prefix=result.columns) #one-hot-encoding"
      ],
      "execution_count": null,
      "outputs": []
    },
    {
      "cell_type": "code",
      "metadata": {
        "id": "McE8qBkZW7YV"
      },
      "source": [
        "#Compara allele1-AB com allele2-AB\n",
        "import numpy as np\n",
        "\n",
        "def compare(dataframe,individuo):\n",
        "  result = pd.Series(np.full(dataframe.columns.size,3),dtype='int64',name=f'{individuo}'.replace('.csv',''))\n",
        "\n",
        "  result[(dataframe.iloc[1,:]==dataframe.iloc[2,:]) & (dataframe.iloc[1,:]=='A')] = 1\n",
        "  result[(dataframe.iloc[1,:]==dataframe.iloc[2,:]) & (dataframe.iloc[1,:]=='B')] = 2\n",
        "  result = result.to_frame()\n",
        "  \n",
        "\n",
        "  result = pd.concat([dataframe,result.transpose()]).drop(['Allele1 - AB','Allele2 - AB'])\n",
        "  result.columns = result.iloc[0]\n",
        "  result= result.drop('SNP Name')\n",
        "  \n",
        "  \n",
        "  return result "
      ],
      "execution_count": null,
      "outputs": []
    },
    {
      "cell_type": "code",
      "metadata": {
        "id": "N2jItSv_1DiX",
        "outputId": "89c52c60-88fd-48a6-c158-b5c1d0fb946a",
        "colab": {
          "base_uri": "https://localhost:8080/",
          "height": 510
        }
      },
      "source": [
        "LeituraArquivos(folders[0:1])"
      ],
      "execution_count": null,
      "outputs": [
        {
          "output_type": "error",
          "ename": "KeyboardInterrupt",
          "evalue": "ignored",
          "traceback": [
            "\u001b[0;31m---------------------------------------------------------------------------\u001b[0m",
            "\u001b[0;31mKeyboardInterrupt\u001b[0m                         Traceback (most recent call last)",
            "\u001b[0;32m<ipython-input-20-d85a44037f60>\u001b[0m in \u001b[0;36m<module>\u001b[0;34m()\u001b[0m\n\u001b[0;32m----> 1\u001b[0;31m \u001b[0mLeituraArquivos\u001b[0m\u001b[0;34m(\u001b[0m\u001b[0mfolders\u001b[0m\u001b[0;34m[\u001b[0m\u001b[0;36m0\u001b[0m\u001b[0;34m:\u001b[0m\u001b[0;36m1\u001b[0m\u001b[0;34m]\u001b[0m\u001b[0;34m)\u001b[0m\u001b[0;34m\u001b[0m\u001b[0;34m\u001b[0m\u001b[0m\n\u001b[0m",
            "\u001b[0;32m<ipython-input-18-c7d59b35b4ba>\u001b[0m in \u001b[0;36mLeituraArquivos\u001b[0;34m(folders)\u001b[0m\n\u001b[1;32m      6\u001b[0m     \u001b[0mfile\u001b[0m\u001b[0;34m.\u001b[0m\u001b[0msort\u001b[0m\u001b[0;34m(\u001b[0m\u001b[0;34m)\u001b[0m\u001b[0;34m\u001b[0m\u001b[0;34m\u001b[0m\u001b[0m\n\u001b[1;32m      7\u001b[0m     \u001b[0;32mfor\u001b[0m \u001b[0mid\u001b[0m \u001b[0;32min\u001b[0m \u001b[0mfile\u001b[0m\u001b[0;34m:\u001b[0m \u001b[0;31m#pego cada um dos cerca de 200 arquivos\u001b[0m\u001b[0;34m\u001b[0m\u001b[0;34m\u001b[0m\u001b[0m\n\u001b[0;32m----> 8\u001b[0;31m         \u001b[0mcsv\u001b[0m \u001b[0;34m=\u001b[0m \u001b[0mpd\u001b[0m\u001b[0;34m.\u001b[0m\u001b[0mread_csv\u001b[0m\u001b[0;34m(\u001b[0m\u001b[0;34mf'/content/drive/My Drive/ic/Dados Descompactados adni//adni_gwas_v2/{folder}/{id}'\u001b[0m\u001b[0;34m,\u001b[0m\u001b[0musecols\u001b[0m\u001b[0;34m=\u001b[0m\u001b[0;34m[\u001b[0m\u001b[0;34m\"SNP Name\"\u001b[0m\u001b[0;34m,\u001b[0m\u001b[0;34m\"Allele1 - AB\"\u001b[0m\u001b[0;34m,\u001b[0m\u001b[0;34m\"Allele2 - AB\"\u001b[0m\u001b[0;34m]\u001b[0m\u001b[0;34m)\u001b[0m\u001b[0;34m\u001b[0m\u001b[0;34m\u001b[0m\u001b[0m\n\u001b[0m\u001b[1;32m      9\u001b[0m         \u001b[0mcsv\u001b[0m \u001b[0;34m=\u001b[0m \u001b[0mFiltragem\u001b[0m\u001b[0;34m(\u001b[0m\u001b[0mcsv\u001b[0m\u001b[0;34m)\u001b[0m\u001b[0;34m\u001b[0m\u001b[0;34m\u001b[0m\u001b[0m\n\u001b[1;32m     10\u001b[0m         \u001b[0;31m#print(csv)\u001b[0m\u001b[0;34m\u001b[0m\u001b[0;34m\u001b[0m\u001b[0;34m\u001b[0m\u001b[0m\n",
            "\u001b[0;32m/usr/local/lib/python3.6/dist-packages/pandas/io/parsers.py\u001b[0m in \u001b[0;36mread_csv\u001b[0;34m(filepath_or_buffer, sep, delimiter, header, names, index_col, usecols, squeeze, prefix, mangle_dupe_cols, dtype, engine, converters, true_values, false_values, skipinitialspace, skiprows, skipfooter, nrows, na_values, keep_default_na, na_filter, verbose, skip_blank_lines, parse_dates, infer_datetime_format, keep_date_col, date_parser, dayfirst, cache_dates, iterator, chunksize, compression, thousands, decimal, lineterminator, quotechar, quoting, doublequote, escapechar, comment, encoding, dialect, error_bad_lines, warn_bad_lines, delim_whitespace, low_memory, memory_map, float_precision)\u001b[0m\n\u001b[1;32m    684\u001b[0m     )\n\u001b[1;32m    685\u001b[0m \u001b[0;34m\u001b[0m\u001b[0m\n\u001b[0;32m--> 686\u001b[0;31m     \u001b[0;32mreturn\u001b[0m \u001b[0m_read\u001b[0m\u001b[0;34m(\u001b[0m\u001b[0mfilepath_or_buffer\u001b[0m\u001b[0;34m,\u001b[0m \u001b[0mkwds\u001b[0m\u001b[0;34m)\u001b[0m\u001b[0;34m\u001b[0m\u001b[0;34m\u001b[0m\u001b[0m\n\u001b[0m\u001b[1;32m    687\u001b[0m \u001b[0;34m\u001b[0m\u001b[0m\n\u001b[1;32m    688\u001b[0m \u001b[0;34m\u001b[0m\u001b[0m\n",
            "\u001b[0;32m/usr/local/lib/python3.6/dist-packages/pandas/io/parsers.py\u001b[0m in \u001b[0;36m_read\u001b[0;34m(filepath_or_buffer, kwds)\u001b[0m\n\u001b[1;32m    456\u001b[0m \u001b[0;34m\u001b[0m\u001b[0m\n\u001b[1;32m    457\u001b[0m     \u001b[0;32mtry\u001b[0m\u001b[0;34m:\u001b[0m\u001b[0;34m\u001b[0m\u001b[0;34m\u001b[0m\u001b[0m\n\u001b[0;32m--> 458\u001b[0;31m         \u001b[0mdata\u001b[0m \u001b[0;34m=\u001b[0m \u001b[0mparser\u001b[0m\u001b[0;34m.\u001b[0m\u001b[0mread\u001b[0m\u001b[0;34m(\u001b[0m\u001b[0mnrows\u001b[0m\u001b[0;34m)\u001b[0m\u001b[0;34m\u001b[0m\u001b[0;34m\u001b[0m\u001b[0m\n\u001b[0m\u001b[1;32m    459\u001b[0m     \u001b[0;32mfinally\u001b[0m\u001b[0;34m:\u001b[0m\u001b[0;34m\u001b[0m\u001b[0;34m\u001b[0m\u001b[0m\n\u001b[1;32m    460\u001b[0m         \u001b[0mparser\u001b[0m\u001b[0;34m.\u001b[0m\u001b[0mclose\u001b[0m\u001b[0;34m(\u001b[0m\u001b[0;34m)\u001b[0m\u001b[0;34m\u001b[0m\u001b[0;34m\u001b[0m\u001b[0m\n",
            "\u001b[0;32m/usr/local/lib/python3.6/dist-packages/pandas/io/parsers.py\u001b[0m in \u001b[0;36mread\u001b[0;34m(self, nrows)\u001b[0m\n\u001b[1;32m   1184\u001b[0m     \u001b[0;32mdef\u001b[0m \u001b[0mread\u001b[0m\u001b[0;34m(\u001b[0m\u001b[0mself\u001b[0m\u001b[0;34m,\u001b[0m \u001b[0mnrows\u001b[0m\u001b[0;34m=\u001b[0m\u001b[0;32mNone\u001b[0m\u001b[0;34m)\u001b[0m\u001b[0;34m:\u001b[0m\u001b[0;34m\u001b[0m\u001b[0;34m\u001b[0m\u001b[0m\n\u001b[1;32m   1185\u001b[0m         \u001b[0mnrows\u001b[0m \u001b[0;34m=\u001b[0m \u001b[0m_validate_integer\u001b[0m\u001b[0;34m(\u001b[0m\u001b[0;34m\"nrows\"\u001b[0m\u001b[0;34m,\u001b[0m \u001b[0mnrows\u001b[0m\u001b[0;34m)\u001b[0m\u001b[0;34m\u001b[0m\u001b[0;34m\u001b[0m\u001b[0m\n\u001b[0;32m-> 1186\u001b[0;31m         \u001b[0mret\u001b[0m \u001b[0;34m=\u001b[0m \u001b[0mself\u001b[0m\u001b[0;34m.\u001b[0m\u001b[0m_engine\u001b[0m\u001b[0;34m.\u001b[0m\u001b[0mread\u001b[0m\u001b[0;34m(\u001b[0m\u001b[0mnrows\u001b[0m\u001b[0;34m)\u001b[0m\u001b[0;34m\u001b[0m\u001b[0;34m\u001b[0m\u001b[0m\n\u001b[0m\u001b[1;32m   1187\u001b[0m \u001b[0;34m\u001b[0m\u001b[0m\n\u001b[1;32m   1188\u001b[0m         \u001b[0;31m# May alter columns / col_dict\u001b[0m\u001b[0;34m\u001b[0m\u001b[0;34m\u001b[0m\u001b[0;34m\u001b[0m\u001b[0m\n",
            "\u001b[0;32m/usr/local/lib/python3.6/dist-packages/pandas/io/parsers.py\u001b[0m in \u001b[0;36mread\u001b[0;34m(self, nrows)\u001b[0m\n\u001b[1;32m   2143\u001b[0m     \u001b[0;32mdef\u001b[0m \u001b[0mread\u001b[0m\u001b[0;34m(\u001b[0m\u001b[0mself\u001b[0m\u001b[0;34m,\u001b[0m \u001b[0mnrows\u001b[0m\u001b[0;34m=\u001b[0m\u001b[0;32mNone\u001b[0m\u001b[0;34m)\u001b[0m\u001b[0;34m:\u001b[0m\u001b[0;34m\u001b[0m\u001b[0;34m\u001b[0m\u001b[0m\n\u001b[1;32m   2144\u001b[0m         \u001b[0;32mtry\u001b[0m\u001b[0;34m:\u001b[0m\u001b[0;34m\u001b[0m\u001b[0;34m\u001b[0m\u001b[0m\n\u001b[0;32m-> 2145\u001b[0;31m             \u001b[0mdata\u001b[0m \u001b[0;34m=\u001b[0m \u001b[0mself\u001b[0m\u001b[0;34m.\u001b[0m\u001b[0m_reader\u001b[0m\u001b[0;34m.\u001b[0m\u001b[0mread\u001b[0m\u001b[0;34m(\u001b[0m\u001b[0mnrows\u001b[0m\u001b[0;34m)\u001b[0m\u001b[0;34m\u001b[0m\u001b[0;34m\u001b[0m\u001b[0m\n\u001b[0m\u001b[1;32m   2146\u001b[0m         \u001b[0;32mexcept\u001b[0m \u001b[0mStopIteration\u001b[0m\u001b[0;34m:\u001b[0m\u001b[0;34m\u001b[0m\u001b[0;34m\u001b[0m\u001b[0m\n\u001b[1;32m   2147\u001b[0m             \u001b[0;32mif\u001b[0m \u001b[0mself\u001b[0m\u001b[0;34m.\u001b[0m\u001b[0m_first_chunk\u001b[0m\u001b[0;34m:\u001b[0m\u001b[0;34m\u001b[0m\u001b[0;34m\u001b[0m\u001b[0m\n",
            "\u001b[0;32mpandas/_libs/parsers.pyx\u001b[0m in \u001b[0;36mpandas._libs.parsers.TextReader.read\u001b[0;34m()\u001b[0m\n",
            "\u001b[0;32mpandas/_libs/parsers.pyx\u001b[0m in \u001b[0;36mpandas._libs.parsers.TextReader._read_low_memory\u001b[0;34m()\u001b[0m\n",
            "\u001b[0;32mpandas/_libs/parsers.pyx\u001b[0m in \u001b[0;36mpandas._libs.parsers.TextReader._read_rows\u001b[0;34m()\u001b[0m\n",
            "\u001b[0;32mpandas/_libs/parsers.pyx\u001b[0m in \u001b[0;36mpandas._libs.parsers.TextReader._convert_column_data\u001b[0;34m()\u001b[0m\n",
            "\u001b[0;32mpandas/_libs/parsers.pyx\u001b[0m in \u001b[0;36mpandas._libs.parsers.TextReader._convert_tokens\u001b[0;34m()\u001b[0m\n",
            "\u001b[0;32mpandas/_libs/parsers.pyx\u001b[0m in \u001b[0;36mpandas._libs.parsers.TextReader._convert_with_dtype\u001b[0;34m()\u001b[0m\n",
            "\u001b[0;32m/usr/local/lib/python3.6/dist-packages/pandas/core/dtypes/common.py\u001b[0m in \u001b[0;36mis_categorical_dtype\u001b[0;34m(arr_or_dtype)\u001b[0m\n\u001b[1;32m    528\u001b[0m \u001b[0;34m\u001b[0m\u001b[0m\n\u001b[1;32m    529\u001b[0m \u001b[0;34m\u001b[0m\u001b[0m\n\u001b[0;32m--> 530\u001b[0;31m \u001b[0;32mdef\u001b[0m \u001b[0mis_categorical_dtype\u001b[0m\u001b[0;34m(\u001b[0m\u001b[0marr_or_dtype\u001b[0m\u001b[0;34m)\u001b[0m \u001b[0;34m->\u001b[0m \u001b[0mbool\u001b[0m\u001b[0;34m:\u001b[0m\u001b[0;34m\u001b[0m\u001b[0;34m\u001b[0m\u001b[0m\n\u001b[0m\u001b[1;32m    531\u001b[0m     \"\"\"\n\u001b[1;32m    532\u001b[0m     \u001b[0mCheck\u001b[0m \u001b[0mwhether\u001b[0m \u001b[0man\u001b[0m \u001b[0marray\u001b[0m\u001b[0;34m-\u001b[0m\u001b[0mlike\u001b[0m \u001b[0;32mor\u001b[0m \u001b[0mdtype\u001b[0m \u001b[0;32mis\u001b[0m \u001b[0mof\u001b[0m \u001b[0mthe\u001b[0m \u001b[0mCategorical\u001b[0m \u001b[0mdtype\u001b[0m\u001b[0;34m.\u001b[0m\u001b[0;34m\u001b[0m\u001b[0;34m\u001b[0m\u001b[0m\n",
            "\u001b[0;31mKeyboardInterrupt\u001b[0m: "
          ]
        }
      ]
    },
    {
      "cell_type": "code",
      "metadata": {
        "id": "Pn5FdW4uQl4Q"
      },
      "source": [
        "\n",
        "#df1 = threading.Thread(target = lambda q, arg1: q.put(LeituraArquivos(arg1)) ,args=(que,folders[0:(int(len(folders)/2))],))\n",
        "#df2 = threading.Thread(target = LeituraArquivos, args=(folders[int(len(folders)/2):len(folders)],))\n",
        "#df1.start()\n",
        "#df2.start()\n",
        "#t.join()\n",
        "#result = que.get()\n"
      ],
      "execution_count": null,
      "outputs": []
    },
    {
      "cell_type": "code",
      "metadata": {
        "id": "EMMOlDLuJtJp",
        "outputId": "517d35c4-65c3-44d6-a697-3b9d2fc8e94f",
        "colab": {
          "base_uri": "https://localhost:8080/",
          "height": 51
        }
      },
      "source": [
        "import concurrent.futures \n",
        "with concurrent.futures.ThreadPoolExecutor() as executor:\n",
        "    future = executor.submit(LeituraArquivos,folders[0:(int(len(folders)/2))])\n",
        "    return_value = future.result()\n",
        "\n",
        "with concurrent.futures.ThreadPoolExecutor() as executor:\n",
        "    future2 = executor.submit(LeituraArquivos,folders[int(len(folders)/2):len(folders)])\n",
        "    return_value2 = future2.result()"
      ],
      "execution_count": null,
      "outputs": [
        {
          "output_type": "stream",
          "text": [
            "cabou\n",
            "cabou\n"
          ],
          "name": "stdout"
        }
      ]
    },
    {
      "cell_type": "code",
      "metadata": {
        "id": "I4NjRkILQN8g",
        "outputId": "6c84ef7d-bafb-449c-ec6f-76867340e6c1",
        "colab": {
          "base_uri": "https://localhost:8080/",
          "height": 255
        }
      },
      "source": [
        "print(return_value)"
      ],
      "execution_count": null,
      "outputs": [
        {
          "output_type": "stream",
          "text": [
            "            rs10127904_1  rs10127904_2  ...  rs9473121_3  rs988337_1\n",
            "002_S_0295             0             0  ...            1           1\n",
            "002_S_0413             1             0  ...            1           1\n",
            "002_S_0559             0             0  ...            0           1\n",
            "002_S_0619             1             0  ...            0           1\n",
            "002_S_0685             1             0  ...            1           1\n",
            "...                  ...           ...  ...          ...         ...\n",
            "037_S_0588             0             0  ...            1           1\n",
            "037_S_0627             0             0  ...            0           1\n",
            "037_S_1078             1             0  ...            0           1\n",
            "037_S_1225             0             0  ...            1           1\n",
            "037_S_1421             1             0  ...            0           1\n",
            "\n",
            "[368 rows x 353 columns]\n"
          ],
          "name": "stdout"
        }
      ]
    },
    {
      "cell_type": "code",
      "metadata": {
        "id": "tyfV3MBW0PIK",
        "outputId": "a5cea0bc-76cb-48c1-d57e-cb4a22f553b3",
        "colab": {
          "base_uri": "https://localhost:8080/",
          "height": 255
        }
      },
      "source": [
        "print(return_value2)"
      ],
      "execution_count": null,
      "outputs": [
        {
          "output_type": "stream",
          "text": [
            "            rs10127904_1  rs10127904_2  ...  rs9473121_3  rs988337_1\n",
            "041_S_0125             1             0  ...            0           1\n",
            "041_S_0262             0             0  ...            1           1\n",
            "041_S_0282             1             0  ...            0           1\n",
            "041_S_0314             1             0  ...            0           1\n",
            "041_S_0407             0             0  ...            0           1\n",
            "...                  ...           ...  ...          ...         ...\n",
            "941_S_1202             0             0  ...            0           1\n",
            "941_S_1203             1             0  ...            1           1\n",
            "941_S_1295             0             0  ...            0           1\n",
            "941_S_1311             0             0  ...            0           1\n",
            "941_S_1363             1             0  ...            1           1\n",
            "\n",
            "[389 rows x 354 columns]\n"
          ],
          "name": "stdout"
        }
      ]
    },
    {
      "cell_type": "code",
      "metadata": {
        "id": "6DN1Y7Md0XXV"
      },
      "source": [
        "final_to_csv = pd.concat([return_value,return_value2])"
      ],
      "execution_count": null,
      "outputs": []
    },
    {
      "cell_type": "code",
      "metadata": {
        "id": "rFJwc5E90qNN"
      },
      "source": [
        "final_to_csv.to_csv('/content/drive/My Drive/ic/extracao_atributes.csv')"
      ],
      "execution_count": null,
      "outputs": []
    }
  ]
}